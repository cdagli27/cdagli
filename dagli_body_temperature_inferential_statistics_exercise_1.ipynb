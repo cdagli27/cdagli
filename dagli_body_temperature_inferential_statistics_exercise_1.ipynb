{
 "cells": [
  {
   "cell_type": "markdown",
   "metadata": {},
   "source": [
    "# What is the True Normal Human Body Temperature? \n",
    "\n",
    "#### Background\n",
    "\n",
    "The mean normal body temperature was held to be 37$^{\\circ}$C or 98.6$^{\\circ}$F for more than 120 years since it was first conceptualized and reported by Carl Wunderlich in a famous 1868 book. But, is this value statistically correct?"
   ]
  },
  {
   "cell_type": "markdown",
   "metadata": {},
   "source": [
    "<h3>Exercises</h3>\n",
    "\n",
    "<p>In this exercise, you will analyze a dataset of human body temperatures and employ the concepts of hypothesis testing, confidence intervals, and statistical significance.</p>\n",
    "\n",
    "<p>Answer the following questions <b>in this notebook below and submit to your Github account</b>.</p> \n",
    "\n",
    "<ol>\n",
    "<li>  Is the distribution of body temperatures normal? \n",
    "    <ul>\n",
    "    <li> Although this is not a requirement for the Central Limit Theorem to hold (read the introduction on Wikipedia's page about the CLT carefully: https://en.wikipedia.org/wiki/Central_limit_theorem), it gives us some peace of mind that the population may also be normally distributed if we assume that this sample is representative of the population.\n",
    "    <li> Think about the way you're going to check for the normality of the distribution. Graphical methods are usually used first, but there are also other ways: https://en.wikipedia.org/wiki/Normality_test\n",
    "    </ul>\n",
    "<li>  Is the sample size large? Are the observations independent?\n",
    "    <ul>\n",
    "    <li> Remember that this is a condition for the Central Limit Theorem, and hence the statistical tests we are using, to apply.\n",
    "    </ul>\n",
    "<li>  Is the true population mean really 98.6 degrees F?\n",
    "    <ul>\n",
    "    <li> First, try a bootstrap hypothesis test.\n",
    "    <li> Now, let's try frequentist statistical testing. Would you use a one-sample or two-sample test? Why?\n",
    "    <li> In this situation, is it appropriate to use the $t$ or $z$ statistic? \n",
    "    <li> Now try using the other test. How is the result be different? Why?\n",
    "    </ul>\n",
    "<li>  Draw a small sample of size 10 from the data and repeat both frequentist tests. \n",
    "    <ul>\n",
    "    <li> Which one is the correct one to use? \n",
    "    <li> What do you notice? What does this tell you about the difference in application of the $t$ and $z$ statistic?\n",
    "    </ul>\n",
    "<li>  At what temperature should we consider someone's temperature to be \"abnormal\"?\n",
    "    <ul>\n",
    "    <li> As in the previous example, try calculating everything using the boostrap approach, as well as the frequentist approach.\n",
    "    <li> Start by computing the margin of error and confidence interval. When calculating the confidence interval, keep in mind that you should use the appropriate formula for one draw, and not N draws.\n",
    "    </ul>\n",
    "<li>  Is there a significant difference between males and females in normal temperature?\n",
    "    <ul>\n",
    "    <li> What testing approach did you use and why?\n",
    "    <li> Write a story with your conclusion in the context of the original problem.\n",
    "    </ul>\n",
    "</ol>\n",
    "\n",
    "You can include written notes in notebook cells using Markdown: \n",
    "   - In the control panel at the top, choose Cell > Cell Type > Markdown\n",
    "   - Markdown syntax: http://nestacms.com/docs/creating-content/markdown-cheat-sheet\n",
    "\n",
    "#### Resources\n",
    "\n",
    "+ Information and data sources: http://www.amstat.org/publications/jse/datasets/normtemp.txt, http://www.amstat.org/publications/jse/jse_data_archive.htm\n",
    "+ Markdown syntax: http://nestacms.com/docs/creating-content/markdown-cheat-sheet\n",
    "\n",
    "****"
   ]
  },
  {
   "cell_type": "code",
   "execution_count": null,
   "metadata": {},
   "outputs": [],
   "source": [
    "import pandas as pd\n",
    "import numpy as np\n",
    "import matplotlib.pyplot as plt \n",
    "import seaborn as sns\n",
    "\n",
    "df = pd.read_csv('data/human_body_temperature.csv')"
   ]
  },
  {
   "cell_type": "code",
   "execution_count": 2,
   "metadata": {},
   "outputs": [
    {
     "data": {
      "text/html": [
       "<div>\n",
       "<style scoped>\n",
       "    .dataframe tbody tr th:only-of-type {\n",
       "        vertical-align: middle;\n",
       "    }\n",
       "\n",
       "    .dataframe tbody tr th {\n",
       "        vertical-align: top;\n",
       "    }\n",
       "\n",
       "    .dataframe thead th {\n",
       "        text-align: right;\n",
       "    }\n",
       "</style>\n",
       "<table border=\"1\" class=\"dataframe\">\n",
       "  <thead>\n",
       "    <tr style=\"text-align: right;\">\n",
       "      <th></th>\n",
       "      <th>temperature</th>\n",
       "      <th>gender</th>\n",
       "      <th>heart_rate</th>\n",
       "    </tr>\n",
       "  </thead>\n",
       "  <tbody>\n",
       "    <tr>\n",
       "      <th>0</th>\n",
       "      <td>99.3</td>\n",
       "      <td>F</td>\n",
       "      <td>68.0</td>\n",
       "    </tr>\n",
       "    <tr>\n",
       "      <th>1</th>\n",
       "      <td>98.4</td>\n",
       "      <td>F</td>\n",
       "      <td>81.0</td>\n",
       "    </tr>\n",
       "    <tr>\n",
       "      <th>2</th>\n",
       "      <td>97.8</td>\n",
       "      <td>M</td>\n",
       "      <td>73.0</td>\n",
       "    </tr>\n",
       "    <tr>\n",
       "      <th>3</th>\n",
       "      <td>99.2</td>\n",
       "      <td>F</td>\n",
       "      <td>66.0</td>\n",
       "    </tr>\n",
       "    <tr>\n",
       "      <th>4</th>\n",
       "      <td>98.0</td>\n",
       "      <td>F</td>\n",
       "      <td>73.0</td>\n",
       "    </tr>\n",
       "  </tbody>\n",
       "</table>\n",
       "</div>"
      ],
      "text/plain": [
       "   temperature gender  heart_rate\n",
       "0         99.3      F        68.0\n",
       "1         98.4      F        81.0\n",
       "2         97.8      M        73.0\n",
       "3         99.2      F        66.0\n",
       "4         98.0      F        73.0"
      ]
     },
     "execution_count": 2,
     "metadata": {},
     "output_type": "execute_result"
    }
   ],
   "source": [
    "df.head()"
   ]
  },
  {
   "cell_type": "code",
   "execution_count": 3,
   "metadata": {},
   "outputs": [
    {
     "data": {
      "text/html": [
       "<div>\n",
       "<style scoped>\n",
       "    .dataframe tbody tr th:only-of-type {\n",
       "        vertical-align: middle;\n",
       "    }\n",
       "\n",
       "    .dataframe tbody tr th {\n",
       "        vertical-align: top;\n",
       "    }\n",
       "\n",
       "    .dataframe thead th {\n",
       "        text-align: right;\n",
       "    }\n",
       "</style>\n",
       "<table border=\"1\" class=\"dataframe\">\n",
       "  <thead>\n",
       "    <tr style=\"text-align: right;\">\n",
       "      <th></th>\n",
       "      <th>temperature</th>\n",
       "      <th>heart_rate</th>\n",
       "    </tr>\n",
       "  </thead>\n",
       "  <tbody>\n",
       "    <tr>\n",
       "      <th>count</th>\n",
       "      <td>130.000000</td>\n",
       "      <td>130.000000</td>\n",
       "    </tr>\n",
       "    <tr>\n",
       "      <th>mean</th>\n",
       "      <td>98.249231</td>\n",
       "      <td>73.761538</td>\n",
       "    </tr>\n",
       "    <tr>\n",
       "      <th>std</th>\n",
       "      <td>0.733183</td>\n",
       "      <td>7.062077</td>\n",
       "    </tr>\n",
       "    <tr>\n",
       "      <th>min</th>\n",
       "      <td>96.300000</td>\n",
       "      <td>57.000000</td>\n",
       "    </tr>\n",
       "    <tr>\n",
       "      <th>25%</th>\n",
       "      <td>97.800000</td>\n",
       "      <td>69.000000</td>\n",
       "    </tr>\n",
       "    <tr>\n",
       "      <th>50%</th>\n",
       "      <td>98.300000</td>\n",
       "      <td>74.000000</td>\n",
       "    </tr>\n",
       "    <tr>\n",
       "      <th>75%</th>\n",
       "      <td>98.700000</td>\n",
       "      <td>79.000000</td>\n",
       "    </tr>\n",
       "    <tr>\n",
       "      <th>max</th>\n",
       "      <td>100.800000</td>\n",
       "      <td>89.000000</td>\n",
       "    </tr>\n",
       "  </tbody>\n",
       "</table>\n",
       "</div>"
      ],
      "text/plain": [
       "       temperature  heart_rate\n",
       "count   130.000000  130.000000\n",
       "mean     98.249231   73.761538\n",
       "std       0.733183    7.062077\n",
       "min      96.300000   57.000000\n",
       "25%      97.800000   69.000000\n",
       "50%      98.300000   74.000000\n",
       "75%      98.700000   79.000000\n",
       "max     100.800000   89.000000"
      ]
     },
     "execution_count": 3,
     "metadata": {},
     "output_type": "execute_result"
    }
   ],
   "source": [
    "df.describe()"
   ]
  },
  {
   "cell_type": "code",
   "execution_count": 4,
   "metadata": {},
   "outputs": [
    {
     "data": {
      "text/plain": [
       "(130, 3)"
      ]
     },
     "execution_count": 4,
     "metadata": {},
     "output_type": "execute_result"
    }
   ],
   "source": [
    "df.shape"
   ]
  },
  {
   "cell_type": "markdown",
   "metadata": {
    "collapsed": true
   },
   "source": [
    "# 1. Is the distribution of body temperatures normal?\n",
    "* Although this is not a requirement for the Central Limit Theorem to hold (read the introduction on Wikipedia's page about the CLT carefully: https://en.wikipedia.org/wiki/Central_limit_theorem), it gives us some peace of mind that the population may also be normally distributed if we assume that this sample is representative of the population.\n",
    "\n",
    "\n",
    "* Think about the way you're going to check for the normality of the distribution. Graphical methods are usually used first, but there are also other ways: https://en.wikipedia.org/wiki/Normality_test"
   ]
  },
  {
   "cell_type": "markdown",
   "metadata": {},
   "source": [
    "To check whether or not the body temperatures normally are distributed, first I use graphical methods. The distribtuion of body temperatures should look like bell shape. Below, we can see a Gaussian-like shape. Thus, we can accept the data as normally distributed.\n"
   ]
  },
  {
   "cell_type": "code",
   "execution_count": 5,
   "metadata": {
    "scrolled": true
   },
   "outputs": [
    {
     "name": "stderr",
     "output_type": "stream",
     "text": [
      "/Users/cesurdagli/anaconda3/lib/python3.7/site-packages/scipy/stats/stats.py:1713: FutureWarning: Using a non-tuple sequence for multidimensional indexing is deprecated; use `arr[tuple(seq)]` instead of `arr[seq]`. In the future this will be interpreted as an array index, `arr[np.array(seq)]`, which will result either in an error or a different result.\n",
      "  return np.add.reduce(sorted[indexer] * weights, axis=axis) / sumval\n"
     ]
    },
    {
     "data": {
      "text/plain": [
       "<matplotlib.axes._subplots.AxesSubplot at 0x1a20fcd630>"
      ]
     },
     "execution_count": 5,
     "metadata": {},
     "output_type": "execute_result"
    },
    {
     "data": {
      "image/png": "[encoded data removed]",
      "text/plain": [
       "<Figure size 432x288 with 1 Axes>"
      ]
     },
     "metadata": {
      "needs_background": "light"
     },
     "output_type": "display_data"
    }
   ],
   "source": [
    "sns.distplot(df['temperature'])"
   ]
  },
  {
   "cell_type": "markdown",
   "metadata": {},
   "source": [
    "The quantile-quantile plot can be used to check to distribution of the body tempratures. The QQ plot below shows the the scatter plot of points in a diagonal line, which closely fits the expected diagonal pattern for the body temperatures."
   ]
  },
  {
   "cell_type": "code",
   "execution_count": 6,
   "metadata": {},
   "outputs": [
    {
     "data": {
      "image/png": "[encoded data removed]",
      "text/plain": [
       "<Figure size 432x288 with 1 Axes>"
      ]
     },
     "execution_count": 6,
     "metadata": {},
     "output_type": "execute_result"
    },
    {
     "data": {
      "image/png": "[encoded data removed]",
      "text/plain": [
       "<Figure size 432x288 with 1 Axes>"
      ]
     },
     "metadata": {
      "needs_background": "light"
     },
     "output_type": "display_data"
    }
   ],
   "source": [
    "from statsmodels.graphics.gofplots import qqplot\n",
    "qqplot(df['temperature'], line='s')"
   ]
  },
  {
   "cell_type": "code",
   "execution_count": 7,
   "metadata": {},
   "outputs": [
    {
     "name": "stdout",
     "output_type": "stream",
     "text": [
      "0.2587479863488254\n",
      "2.703801433319203\n",
      "variable is normal\n"
     ]
    }
   ],
   "source": [
    "# calculating statistical test to check whether the data is normally distributed.\n",
    "from scipy import stats\n",
    "k,p=stats.mstats.normaltest(df['temperature'])# this function tests the null hypothesis that a sample comes from a normal distribution.\n",
    "print(p)\n",
    "print(k)\n",
    "# if p value is greater than 0.05 the variable is normally distributed.\n",
    "if p<0.05:\n",
    "    print('varible is not normal')\n",
    "else:\n",
    "    print ('variable is normal')"
   ]
  },
  {
   "cell_type": "markdown",
   "metadata": {},
   "source": [
    "Test whether a sample differs from a normal distribution. We are seeking results with a larger p-value to confirm that our sample was likely drawn from a Gaussian distribution so that if p values is greater than 0.05 the distribution of body temperatures normal."
   ]
  },
  {
   "cell_type": "markdown",
   "metadata": {},
   "source": [
    "# 2. Is the sample size large? Are the observations independent?\n",
    "* Remember that this is a condition for the Central Limit Theorem, and hence the statistical tests we are using, to apply."
   ]
  },
  {
   "cell_type": "markdown",
   "metadata": {},
   "source": [
    "In order to know whether or not the sample size is large, I will find the smallest needed sample size. I choose a confidence level (95%), standard deviation (0.5), and a margin of error (confidence interval) of +/- 5%. Since I am looking for a needed sample size, I will go with Z-Score for 95% confidence level, which is 1.96. To find out the needed sample size I will use this equation: (Z-score)2 * StdDev*(1-StdDev) / (margin of error)2. \n",
    "\n",
    "This calculation recommends that I need to have at least 384 participants so that the given sample size (130) is not considered as a large sample size. However, as shown below we can say that with 90% confidence the sample size (greater than 96) is large enough.\n",
    "\n",
    "All participants are counted once in this sample so that the observations are independent. Also, the correlation between body temperature and heart rate tells us to see whether or not the obsrvations are independent.\n",
    "\n",
    "According to Central Limit Theorem, the sample size should be more than 30. in this case, the sample size (n=130) is OK. "
   ]
  },
  {
   "cell_type": "code",
   "execution_count": 8,
   "metadata": {},
   "outputs": [
    {
     "name": "stdout",
     "output_type": "stream",
     "text": [
      "With 95% confidence level, .5 standard deviation, and a margin of error (confidence interval) of +/- 1%, the needed sample size: 96.03999999999998\n",
      "With 95% confidence level, .5 standard deviation, and a margin of error (confidence interval) of +/- 5%, the needed sample size: 384.1599999999999\n",
      "With 95% confidence level, .5 standard deviation, and a margin of error (confidence interval) of +/- 10%, the needed sample size: 9603.999999999998\n"
     ]
    }
   ],
   "source": [
    "a=((1.96*1.96) * 0.5*(1 - 0.5)) / (0.1*0.1)\n",
    "b=((1.96*1.96) * 0.5*(1 - 0.5)) / (0.05*0.05)\n",
    "c=((1.96*1.96) * 0.5*(1 - 0.5)) / (0.01*0.01)\n",
    "print('With 95% confidence level, .5 standard deviation, and a margin of error (confidence interval) of +/- 1%, the needed sample size:',a )\n",
    "print('With 95% confidence level, .5 standard deviation, and a margin of error (confidence interval) of +/- 5%, the needed sample size:',b )\n",
    "print('With 95% confidence level, .5 standard deviation, and a margin of error (confidence interval) of +/- 10%, the needed sample size:',c )"
   ]
  },
  {
   "cell_type": "markdown",
   "metadata": {},
   "source": [
    "# 3.Is the true population mean really 98.6 degrees F?\n",
    "    First, try a bootstrap hypothesis test.\n",
    "    Now, let's try frequentist statistical testing. Would you use a one-sample or two-sample test? Why?\n",
    "    In this situation, is it appropriate to use the  t or z statistic?\n",
    "    Now try using the other test. How is the result be different? Why?"
   ]
  },
  {
   "cell_type": "markdown",
   "metadata": {},
   "source": [
    "We are 99% confident that the mean resting body temperature of healthy adults is between 98.09 and 98.41 degrees Fahrenheit. True population mean 98.6 is not in this interval."
   ]
  },
  {
   "cell_type": "code",
   "execution_count": 9,
   "metadata": {},
   "outputs": [
    {
     "name": "stdout",
     "output_type": "stream",
     "text": [
      "Bootstrapped Mean Temperature = 98.24988715384616, 90% CI = [98.14384615 98.35461538]\n",
      "Bootstrapped Mean Temperature = 98.24988715384616, 95% CI = [98.12153846 98.37538462]\n",
      "Bootstrapped Mean Temperature = 98.24988715384616, 99% CI = [98.08153846 98.41154231]\n"
     ]
    }
   ],
   "source": [
    "# Draw some random sample with replacement and append mean to mean_temp.\n",
    "mean_temp, sims = [], 10000\n",
    "for i in range(sims):\n",
    "    temp_sample = np.random.choice(df['temperature'], replace=True, size=len(df['temperature']))\n",
    "    sample_mean = temp_sample.mean()\n",
    "    mean_temp.append(sample_mean)\n",
    "    \n",
    "# Calculate bootstrapped mean and 95%, 90%, 99% confidence interval.\n",
    "boot_mean = np.mean(mean_temp)\n",
    "boot_95_ci = np.percentile(mean_temp, [2.5, 97.5])\n",
    "boot_90_ci = np.percentile(mean_temp, [5, 95])\n",
    "boot_99_ci = np.percentile(mean_temp, [0.5, 99.5])\n",
    "print(\"Bootstrapped Mean Temperature = {}, 90% CI = {}\".format(boot_mean, boot_90_ci))\n",
    "print(\"Bootstrapped Mean Temperature = {}, 95% CI = {}\".format(boot_mean, boot_95_ci))\n",
    "print(\"Bootstrapped Mean Temperature = {}, 99% CI = {}\".format(boot_mean, boot_99_ci))"
   ]
  },
  {
   "cell_type": "markdown",
   "metadata": {},
   "source": [
    "    Now, let's try frequentist statistical testing. Would you use a one-sample or two-sample test? Why?\n",
    "Since we check whether the sample mean differs from the population mean, I calculate a one-sample T-test. Since the p-value is less than 0.01 we can reject our null hypothesis with 99% confidence."
   ]
  },
  {
   "cell_type": "markdown",
   "metadata": {},
   "source": [
    "    In this situation, is it appropriate to use the  t or z statistic?\n",
    "\n",
    "Normally, Z statistic is not appropriate in this situation since the standard deviation of the population is unknown. However, when the sample size is relatively large (n>96), the sample standard deviation can be used as an estimate of the population standard deviation, and a z-test can provide approximate results.\n",
    "\n",
    "There is very strong evidence that the mean resting body temperature of healthy adults is less than the conventional value of 98.6 degrees of Fahrenheit (t = −5.4, p = .000, two-sided one-sample t-test, df = 129)."
   ]
  },
  {
   "cell_type": "code",
   "execution_count": 10,
   "metadata": {},
   "outputs": [
    {
     "data": {
      "text/plain": [
       "Ttest_1sampResult(statistic=-5.4548232923645195, pvalue=2.4106320415561276e-07)"
      ]
     },
     "execution_count": 10,
     "metadata": {},
     "output_type": "execute_result"
    }
   ],
   "source": [
    "stats.ttest_1samp(df['temperature'], 98.6)"
   ]
  },
  {
   "cell_type": "code",
   "execution_count": null,
   "metadata": {},
   "outputs": [],
   "source": [
    "# Calculate Z statistic\n",
    "z=(df['temperature'].mean() - 98.6)/(df['temperature'].std()/np.sqrt(len(df)))\n",
    "# Calculate and save p-value:\n",
    "p = stats.norm.cdf(z) * 2\n",
    "print('Z Statistic:', z)\n",
    "print('p-value:', p)"
   ]
  },
  {
   "cell_type": "code",
   "execution_count": null,
   "metadata": {},
   "outputs": [],
   "source": []
  },
  {
   "cell_type": "code",
   "execution_count": null,
   "metadata": {},
   "outputs": [],
   "source": []
  },
  {
   "cell_type": "markdown",
   "metadata": {},
   "source": [
    "# 4. Draw a small sample of size 10 from the data and repeat both frequentist tests.\n",
    "    Which one is the correct one to use?\n",
    "    What do you notice? What does this tell you about the difference in application of the  t and  z statistic?"
   ]
  },
  {
   "cell_type": "code",
   "execution_count": 11,
   "metadata": {},
   "outputs": [
    {
     "data": {
      "text/plain": [
       "Ttest_1sampResult(statistic=-0.2809757434745029, pvalue=0.7850815605068104)"
      ]
     },
     "execution_count": 11,
     "metadata": {},
     "output_type": "execute_result"
    }
   ],
   "source": [
    "# One-sample t-test\n",
    "a=np.random.choice(df['temperature'], 10)\n",
    "stats.ttest_1samp(a, 98.6)"
   ]
  },
  {
   "cell_type": "code",
   "execution_count": 12,
   "metadata": {},
   "outputs": [
    {
     "name": "stdout",
     "output_type": "stream",
     "text": [
      "p value: 0.7787290045873467\n",
      "z value: -0.2809757434745029\n"
     ]
    }
   ],
   "source": [
    "# One-sample z-test\n",
    "from statsmodels.stats.weightstats import ztest\n",
    "z, p = ztest(a, value=98.6)\n",
    "print('p value:', p)\n",
    "print('z value:', z)"
   ]
  },
  {
   "cell_type": "markdown",
   "metadata": {},
   "source": [
    "Since sample size is less than 30 using t test would be appropriate. Based on the p values found I can't reject the null hypothesis. On the other hand,It appears that the calculations consistently produces lower p-values from the z-test than from the t-test. Therefore, it is appropriate to use the z-test, then we have a higher likelihood of rejecting the null hypothesis.\n"
   ]
  },
  {
   "cell_type": "code",
   "execution_count": null,
   "metadata": {},
   "outputs": [],
   "source": []
  },
  {
   "cell_type": "markdown",
   "metadata": {},
   "source": [
    "# 5. At what temperature should we consider someone's temperature to be \"abnormal\"?\n",
    "    As in the previous example, try calculating everything using the boostrap approach, as well as the frequentist approach.\n",
    "    Start by computing the margin of error and confidence interval. When calculating the confidence interval, keep in mind that you should use the appropriate formula for one draw, and not N draws."
   ]
  },
  {
   "cell_type": "markdown",
   "metadata": {},
   "source": [
    "According to both the Bootstrap and Frequentist approaches done below: the human body temperature is 98.25 ± 1.43 degrees F) or at a 95% confidence interval, a temperature below 96.817° or above 99.681° would be considered abnormal."
   ]
  },
  {
   "cell_type": "code",
   "execution_count": 13,
   "metadata": {},
   "outputs": [
    {
     "name": "stdout",
     "output_type": "stream",
     "text": [
      "95% confidence interval: 96.818 - 99.681\n",
      "margin of error: +/-1.4315\n",
      "\n",
      "\n"
     ]
    }
   ],
   "source": [
    "# Draw some random sample with replacement and append mean to mean_temp.\n",
    "mean_temp, sims = [], 100000\n",
    "for i in range(sims):\n",
    "    temp_sample = np.random.choice(df['temperature'], replace=True, size=len(df['temperature']))\n",
    "    sample_mean = temp_sample.mean()\n",
    "    mean_temp.append(sample_mean)\n",
    "    \n",
    "# Calculate bootstrapped mean and 95% confidence interval.\n",
    "boot_mean = np.mean(mean_temp)\n",
    "ci = stats.norm.interval(0.95, loc=boot_mean, scale=np.std(df['temperature']))\n",
    "\n",
    "print('95% confidence interval: {:0.5} - {:0.5}'.format(ci[0], ci[1]))\n",
    "print('margin of error: +/-{:0.5}\\n\\n'.format((ci[1] - boot_mean)))\n"
   ]
  },
  {
   "cell_type": "code",
   "execution_count": 14,
   "metadata": {},
   "outputs": [
    {
     "name": "stdout",
     "output_type": "stream",
     "text": [
      "95% Prediction Interval: (96.81775582674824, 99.68070571171332)\n"
     ]
    }
   ],
   "source": [
    "# 95% prediction interval:\n",
    "PI = stats.norm.interval(0.95, loc=np.mean(df['temperature']), scale=np.std(df['temperature']))\n",
    "print('95% Prediction Interval:', PI)"
   ]
  },
  {
   "cell_type": "code",
   "execution_count": null,
   "metadata": {},
   "outputs": [],
   "source": []
  },
  {
   "cell_type": "markdown",
   "metadata": {},
   "source": [
    "# 6.Is there a significant difference between males and females in normal temperature?\n",
    "    What testing approach did you use and why?\n",
    "    Write a story with your conclusion in the context of the original problem."
   ]
  },
  {
   "cell_type": "markdown",
   "metadata": {},
   "source": [
    "H0: No difference between male and female body temperature\n",
    "H1: There is a difference between male and female body temperature\n",
    "\n",
    "The simple calculations of groups mean show that there is a difference between the mean temperatures of males and females in the sample. Furthermore, to know whether or not this difference is statitically significant, I run a two sample t-test. Since our p-value (0.02) is less than 0.05, we can reject our null hypothesis with 95% confidence."
   ]
  },
  {
   "cell_type": "code",
   "execution_count": 15,
   "metadata": {},
   "outputs": [
    {
     "name": "stdout",
     "output_type": "stream",
     "text": [
      "Male Temperature mean: 98.1046153846154\n",
      "Female Temperature mean: 98.39384615384613\n",
      "0.02393188312239561\n",
      "-2.2854345381656103\n"
     ]
    }
   ],
   "source": [
    "from scipy.stats import ttest_ind\n",
    "df_female=df[df['gender']=='F']\n",
    "df_male=df[df['gender']=='M']\n",
    "\n",
    "x=np.mean(df_male['temperature'])\n",
    "print('Male Temperature mean:', x)\n",
    "y=np.mean(df_female['temperature'])\n",
    "print('Female Temperature mean:', y)\n",
    "\n",
    "stat, p = ttest_ind(df_male['temperature'], df_female['temperature'])\n",
    "print(p)\n",
    "print(stat)"
   ]
  },
  {
   "cell_type": "code",
   "execution_count": null,
   "metadata": {},
   "outputs": [],
   "source": []
  },
  {
   "cell_type": "code",
   "execution_count": null,
   "metadata": {},
   "outputs": [],
   "source": []
  }
 ],
 "metadata": {
  "kernelspec": {
   "display_name": "Python 3",
   "language": "python",
   "name": "python3"
  },
  "language_info": {
   "codemirror_mode": {
    "name": "ipython",
    "version": 3
   },
   "file_extension": ".py",
   "mimetype": "text/x-python",
   "name": "python",
   "nbconvert_exporter": "python",
   "pygments_lexer": "ipython3",
   "version": "3.7.0"
  }
 },
 "nbformat": 4,
 "nbformat_minor": 1
}
