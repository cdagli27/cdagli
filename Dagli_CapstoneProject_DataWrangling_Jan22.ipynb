{
 "cells": [
  {
   "cell_type": "code",
   "execution_count": 1,
   "metadata": {},
   "outputs": [],
   "source": [
    "import pandas as pd\n",
    "import os"
   ]
  },
  {
   "cell_type": "code",
   "execution_count": 2,
   "metadata": {},
   "outputs": [
    {
     "data": {
      "text/plain": [
       "(36801, 17)"
      ]
     },
     "execution_count": 2,
     "metadata": {},
     "output_type": "execute_result"
    }
   ],
   "source": [
    "#FIRST WORKING ON THE DATASET INCLUDING DEMOGRAPHIC DATA\n",
    "\n",
    "#reading and loading the dataset into a dataframe.\n",
    "\n",
    "reg=pd.read_csv('/users.csv', header=None) \n",
    "reg.shape"
   ]
  },
  {
   "cell_type": "code",
   "execution_count": 3,
   "metadata": {},
   "outputs": [
    {
     "data": {
      "text/plain": [
       "Index(['email', 'password', 'activation', 'activationDate', 'permission',\n",
       "       'firstname', 'lastname', 'age', 'highestEd', 'degreeOther', 'reason',\n",
       "       'reasonOther', 'level', 'testID', 'testDate', 'IP', 'testLevel'],\n",
       "      dtype='object')"
      ]
     },
     "execution_count": 3,
     "metadata": {},
     "output_type": "execute_result"
    }
   ],
   "source": [
    "#naming the columns\n",
    "reg.columns=['email', 'password', 'activation', 'activationDate', 'permission', 'firstname', 'lastname', 'age', 'highestEd', 'degreeOther', 'reason', 'reasonOther', 'level', 'testID', 'testDate', 'IP', 'testLevel']\n",
    "reg.columns"
   ]
  },
  {
   "cell_type": "code",
   "execution_count": 4,
   "metadata": {},
   "outputs": [
    {
     "name": "stdout",
     "output_type": "stream",
     "text": [
      "(36801, 10)\n",
      "Index(['email', 'age', 'highestEd', 'degreeOther', 'reason', 'reasonOther',\n",
      "       'level', 'testID', 'testDate', 'testLevel'],\n",
      "      dtype='object')\n"
     ]
    }
   ],
   "source": [
    "#Drop the unnecessary columns which I think I don’t need in my analyses.\n",
    "\n",
    "reg=reg.drop(['password', 'activation', 'activationDate', 'permission', 'firstname', 'lastname', 'IP'], axis=1)\n",
    "print(reg.shape)\n",
    "print(reg.columns)"
   ]
  },
  {
   "cell_type": "code",
   "execution_count": null,
   "metadata": {},
   "outputs": [],
   "source": [
    "#WORKING ON THE DATASET CONTAINING DATA RELATED TO SURVEY AND TEST RESULTS"
   ]
  },
  {
   "cell_type": "code",
   "execution_count": 5,
   "metadata": {},
   "outputs": [
    {
     "name": "stderr",
     "output_type": "stream",
     "text": [
      "/Users/cesurdagli/anaconda3/lib/python3.7/site-packages/ipykernel_launcher.py:2: ParserWarning: Falling back to the 'python' engine because the separator encoded in utf-8 is > 1 char long, and the 'c' engine does not support such separators; you can avoid this warning by specifying engine='python'.\n",
      "  \n"
     ]
    },
    {
     "data": {
      "text/plain": [
       "(108328, 74)"
      ]
     },
     "execution_count": 5,
     "metadata": {},
     "output_type": "execute_result"
    }
   ],
   "source": [
    "#reading and loading the dataset into a dataframe.\n",
    "survey= pd.read_csv('data.txt', sep=\"¢\", header=None)\n",
    "survey.shape"
   ]
  },
  {
   "cell_type": "code",
   "execution_count": 6,
   "metadata": {},
   "outputs": [
    {
     "data": {
      "text/plain": [
       "(108328, 44)"
      ]
     },
     "execution_count": 6,
     "metadata": {},
     "output_type": "execute_result"
    }
   ],
   "source": [
    "#Droping duplicated features since the survey questions were saved twice. I do not remember why.\n",
    "survey=survey.drop(survey.columns[9:39], axis=1)\n",
    "survey.shape"
   ]
  },
  {
   "cell_type": "code",
   "execution_count": 7,
   "metadata": {},
   "outputs": [
    {
     "data": {
      "text/plain": [
       "Index(['email', 'name', 'pass_fail', 'right_question', 'wrong_question',\n",
       "       'testID', 'testTakenTime', 'testDuration', 'testLevel', 'taskCompleted',\n",
       "       'viewedVideoCases', 'viewedDemVideos', 'integrationCompleted',\n",
       "       'practiceTestTaken', 'quality_Satisfaction1', 'ALT1NBR',\n",
       "       'authenticProblems1', 'demonstration1', 'application1', 'activation1',\n",
       "       'ALT2', 'ALT3', 'quality_Satisfaction2', 'demonstration2',\n",
       "       'demonstration3', 'ALT4', 'authenticProblems2', 'integration1',\n",
       "       'activation2', 'authenticProblems3', 'integration2',\n",
       "       'demonstration4NBR', 'application3', 'quality_Satisfaction3NBR',\n",
       "       'integration3', 'activation3', 'application4', 'demonstration5',\n",
       "       'quality_Satisfaction4NBR', 'certificationDate',\n",
       "       'certificationTestEarnedDate', 'IP', 'comments', 'email1'],\n",
       "      dtype='object')"
      ]
     },
     "execution_count": 7,
     "metadata": {},
     "output_type": "execute_result"
    }
   ],
   "source": [
    "#naming the columns\n",
    "\n",
    "survey.columns=['email' , 'name', 'pass_fail', 'right_question', 'wrong_question', 'testID', 'testTakenTime', 'testDuration', 'testLevel', 'taskCompleted', 'viewedVideoCases', 'viewedDemVideos', 'integrationCompleted', 'practiceTestTaken', 'quality_Satisfaction1', 'ALT1NBR', 'authenticProblems1', 'demonstration1', 'application1', 'activation1', 'ALT2', 'ALT3', 'quality_Satisfaction2', 'demonstration2', 'demonstration3', 'ALT4', 'authenticProblems2', 'integration1', 'activation2', 'authenticProblems3', 'integration2', 'demonstration4NBR', 'application3', 'quality_Satisfaction3NBR', 'integration3', 'activation3', 'application4', 'demonstration5', 'quality_Satisfaction4NBR', 'certificationDate', 'certificationTestEarnedDate', 'IP', 'comments', 'email1']\n",
    "survey.columns"
   ]
  },
  {
   "cell_type": "code",
   "execution_count": 8,
   "metadata": {},
   "outputs": [],
   "source": [
    "#Drop the unnecessary columns which I think I don’t need in my analyses.\n",
    "survey=survey.drop(['name', 'email1', 'certificationTestEarnedDate', 'certificationDate', 'IP'], axis=1)"
   ]
  },
  {
   "cell_type": "code",
   "execution_count": 9,
   "metadata": {},
   "outputs": [
    {
     "name": "stdout",
     "output_type": "stream",
     "text": [
      "(108328, 39)\n",
      "Index(['email', 'pass_fail', 'right_question', 'wrong_question', 'testID',\n",
      "       'testTakenTime', 'testDuration', 'testLevel', 'taskCompleted',\n",
      "       'viewedVideoCases', 'viewedDemVideos', 'integrationCompleted',\n",
      "       'practiceTestTaken', 'quality_Satisfaction1', 'ALT1NBR',\n",
      "       'authenticProblems1', 'demonstration1', 'application1', 'activation1',\n",
      "       'ALT2', 'ALT3', 'quality_Satisfaction2', 'demonstration2',\n",
      "       'demonstration3', 'ALT4', 'authenticProblems2', 'integration1',\n",
      "       'activation2', 'authenticProblems3', 'integration2',\n",
      "       'demonstration4NBR', 'application3', 'quality_Satisfaction3NBR',\n",
      "       'integration3', 'activation3', 'application4', 'demonstration5',\n",
      "       'quality_Satisfaction4NBR', 'comments'],\n",
      "      dtype='object')\n"
     ]
    }
   ],
   "source": [
    "print(survey.shape)\n",
    "print(survey.columns)"
   ]
  },
  {
   "cell_type": "code",
   "execution_count": 10,
   "metadata": {},
   "outputs": [
    {
     "data": {
      "text/html": [
       "<div>\n",
       "<style scoped>\n",
       "    .dataframe tbody tr th:only-of-type {\n",
       "        vertical-align: middle;\n",
       "    }\n",
       "\n",
       "    .dataframe tbody tr th {\n",
       "        vertical-align: top;\n",
       "    }\n",
       "\n",
       "    .dataframe thead th {\n",
       "        text-align: right;\n",
       "    }\n",
       "</style>\n",
       "<table border=\"1\" class=\"dataframe\">\n",
       "  <thead>\n",
       "    <tr style=\"text-align: right;\">\n",
       "      <th></th>\n",
       "      <th>ALT1Reversed</th>\n",
       "      <th>ALT1NBR</th>\n",
       "      <th>demonstration4Reversed</th>\n",
       "      <th>demonstration4NBR</th>\n",
       "      <th>quality_Satisfaction3Reversed</th>\n",
       "      <th>quality_Satisfaction3NBR</th>\n",
       "      <th>quality_Satisfaction4Reversed</th>\n",
       "      <th>quality_Satisfaction4NBR</th>\n",
       "    </tr>\n",
       "  </thead>\n",
       "  <tbody>\n",
       "    <tr>\n",
       "      <th>0</th>\n",
       "      <td>5.0</td>\n",
       "      <td>1.0</td>\n",
       "      <td>5.0</td>\n",
       "      <td>1.0</td>\n",
       "      <td>5.0</td>\n",
       "      <td>1.0</td>\n",
       "      <td>5.0</td>\n",
       "      <td>1.0</td>\n",
       "    </tr>\n",
       "    <tr>\n",
       "      <th>1</th>\n",
       "      <td>NaN</td>\n",
       "      <td>NaN</td>\n",
       "      <td>NaN</td>\n",
       "      <td>NaN</td>\n",
       "      <td>NaN</td>\n",
       "      <td>NaN</td>\n",
       "      <td>NaN</td>\n",
       "      <td>NaN</td>\n",
       "    </tr>\n",
       "    <tr>\n",
       "      <th>2</th>\n",
       "      <td>3.0</td>\n",
       "      <td>3.0</td>\n",
       "      <td>4.0</td>\n",
       "      <td>2.0</td>\n",
       "      <td>5.0</td>\n",
       "      <td>1.0</td>\n",
       "      <td>4.0</td>\n",
       "      <td>2.0</td>\n",
       "    </tr>\n",
       "    <tr>\n",
       "      <th>3</th>\n",
       "      <td>NaN</td>\n",
       "      <td>NaN</td>\n",
       "      <td>NaN</td>\n",
       "      <td>NaN</td>\n",
       "      <td>NaN</td>\n",
       "      <td>NaN</td>\n",
       "      <td>NaN</td>\n",
       "      <td>NaN</td>\n",
       "    </tr>\n",
       "    <tr>\n",
       "      <th>4</th>\n",
       "      <td>NaN</td>\n",
       "      <td>NaN</td>\n",
       "      <td>NaN</td>\n",
       "      <td>NaN</td>\n",
       "      <td>NaN</td>\n",
       "      <td>NaN</td>\n",
       "      <td>NaN</td>\n",
       "      <td>NaN</td>\n",
       "    </tr>\n",
       "  </tbody>\n",
       "</table>\n",
       "</div>"
      ],
      "text/plain": [
       "   ALT1Reversed  ALT1NBR  demonstration4Reversed  demonstration4NBR  \\\n",
       "0           5.0      1.0                     5.0                1.0   \n",
       "1           NaN      NaN                     NaN                NaN   \n",
       "2           3.0      3.0                     4.0                2.0   \n",
       "3           NaN      NaN                     NaN                NaN   \n",
       "4           NaN      NaN                     NaN                NaN   \n",
       "\n",
       "   quality_Satisfaction3Reversed  quality_Satisfaction3NBR  \\\n",
       "0                            5.0                       1.0   \n",
       "1                            NaN                       NaN   \n",
       "2                            5.0                       1.0   \n",
       "3                            NaN                       NaN   \n",
       "4                            NaN                       NaN   \n",
       "\n",
       "   quality_Satisfaction4Reversed  quality_Satisfaction4NBR  \n",
       "0                            5.0                       1.0  \n",
       "1                            NaN                       NaN  \n",
       "2                            4.0                       2.0  \n",
       "3                            NaN                       NaN  \n",
       "4                            NaN                       NaN  "
      ]
     },
     "execution_count": 10,
     "metadata": {},
     "output_type": "execute_result"
    }
   ],
   "source": [
    "#This dataset contains negatively worded questions so I need to reverse those columns for negatively worded survey items.\n",
    "\n",
    "survey['ALT1Reversed'] = survey['ALT1NBR'].map({1:5, 2:4, 3:3, 4:2, 5:1})\n",
    "survey['demonstration4Reversed'] = survey['demonstration4NBR'].map({1:5, 2:4, 3:3, 4:2, 5:1})\n",
    "survey['quality_Satisfaction3Reversed'] = survey['quality_Satisfaction3NBR'].map({1:5, 2:4, 3:3, 4:2, 5:1})\n",
    "survey['quality_Satisfaction4Reversed'] = survey['quality_Satisfaction4NBR'].map({1:5, 2:4, 3:3, 4:2, 5:1})\n",
    "survey[['ALT1Reversed', 'ALT1NBR', 'demonstration4Reversed', 'demonstration4NBR', 'quality_Satisfaction3Reversed','quality_Satisfaction3NBR', 'quality_Satisfaction4Reversed', 'quality_Satisfaction4NBR' ]].head()"
   ]
  },
  {
   "cell_type": "code",
   "execution_count": 11,
   "metadata": {},
   "outputs": [
    {
     "data": {
      "text/plain": [
       "(108328, 39)"
      ]
     },
     "execution_count": 11,
     "metadata": {},
     "output_type": "execute_result"
    }
   ],
   "source": [
    "# Drop the cloumns including items that needed to be reversed.\n",
    "\n",
    "survey=survey.drop(['ALT1NBR', 'demonstration4NBR', 'quality_Satisfaction3NBR', 'quality_Satisfaction4NBR'], axis=1)\n",
    "survey.shape"
   ]
  },
  {
   "cell_type": "code",
   "execution_count": null,
   "metadata": {},
   "outputs": [],
   "source": [
    "#MERGING the DATAFRAMES"
   ]
  },
  {
   "cell_type": "code",
   "execution_count": 12,
   "metadata": {},
   "outputs": [
    {
     "name": "stdout",
     "output_type": "stream",
     "text": [
      "(108328, 39)\n",
      "(36801, 10)\n"
     ]
    }
   ],
   "source": [
    "print(survey.shape)\n",
    "print(reg.shape)"
   ]
  },
  {
   "cell_type": "code",
   "execution_count": 13,
   "metadata": {},
   "outputs": [
    {
     "name": "stdout",
     "output_type": "stream",
     "text": [
      "(108328, 48)\n",
      "Index(['email', 'pass_fail', 'right_question', 'wrong_question', 'testID_x',\n",
      "       'testTakenTime', 'testDuration', 'testLevel_x', 'taskCompleted',\n",
      "       'viewedVideoCases', 'viewedDemVideos', 'integrationCompleted',\n",
      "       'practiceTestTaken', 'quality_Satisfaction1', 'authenticProblems1',\n",
      "       'demonstration1', 'application1', 'activation1', 'ALT2', 'ALT3',\n",
      "       'quality_Satisfaction2', 'demonstration2', 'demonstration3', 'ALT4',\n",
      "       'authenticProblems2', 'integration1', 'activation2',\n",
      "       'authenticProblems3', 'integration2', 'application3', 'integration3',\n",
      "       'activation3', 'application4', 'demonstration5', 'comments',\n",
      "       'ALT1Reversed', 'demonstration4Reversed',\n",
      "       'quality_Satisfaction3Reversed', 'quality_Satisfaction4Reversed', 'age',\n",
      "       'highestEd', 'degreeOther', 'reason', 'reasonOther', 'level',\n",
      "       'testID_y', 'testDate', 'testLevel_y'],\n",
      "      dtype='object')\n"
     ]
    }
   ],
   "source": [
    "#merging two dataframes on emails in the survey dataframe\n",
    "\n",
    "merged=pd.merge(left=survey, right=reg, left_on='email', right_on='email', how='left')\n",
    "print(merged.shape)\n",
    "print(merged.columns)"
   ]
  },
  {
   "cell_type": "code",
   "execution_count": 14,
   "metadata": {},
   "outputs": [],
   "source": [
    "# I don't need the columns testID_y and testLevel_y so that I am droping them.\n",
    "\n",
    "merged=merged.drop(['testID_y', 'testLevel_y'], axis=1)"
   ]
  },
  {
   "cell_type": "code",
   "execution_count": 15,
   "metadata": {},
   "outputs": [
    {
     "name": "stdout",
     "output_type": "stream",
     "text": [
      "(108328, 46)\n"
     ]
    }
   ],
   "source": [
    "print(merged.shape)"
   ]
  },
  {
   "cell_type": "code",
   "execution_count": 16,
   "metadata": {},
   "outputs": [],
   "source": [
    "#Renaming the column testLevel_X\n",
    "\n",
    "merged.rename(columns={'testLevel_x': 'testLevel', 'testID_x':'testID'}, inplace=True)"
   ]
  },
  {
   "cell_type": "code",
   "execution_count": null,
   "metadata": {},
   "outputs": [],
   "source": [
    "#EXPLORING the MERGED DATAFRAME"
   ]
  },
  {
   "cell_type": "code",
   "execution_count": 17,
   "metadata": {},
   "outputs": [
    {
     "name": "stdout",
     "output_type": "stream",
     "text": [
      "(108328, 46)\n",
      "Index(['email', 'pass_fail', 'right_question', 'wrong_question', 'testID',\n",
      "       'testTakenTime', 'testDuration', 'testLevel', 'taskCompleted',\n",
      "       'viewedVideoCases', 'viewedDemVideos', 'integrationCompleted',\n",
      "       'practiceTestTaken', 'quality_Satisfaction1', 'authenticProblems1',\n",
      "       'demonstration1', 'application1', 'activation1', 'ALT2', 'ALT3',\n",
      "       'quality_Satisfaction2', 'demonstration2', 'demonstration3', 'ALT4',\n",
      "       'authenticProblems2', 'integration1', 'activation2',\n",
      "       'authenticProblems3', 'integration2', 'application3', 'integration3',\n",
      "       'activation3', 'application4', 'demonstration5', 'comments',\n",
      "       'ALT1Reversed', 'demonstration4Reversed',\n",
      "       'quality_Satisfaction3Reversed', 'quality_Satisfaction4Reversed', 'age',\n",
      "       'highestEd', 'degreeOther', 'reason', 'reasonOther', 'level',\n",
      "       'testDate'],\n",
      "      dtype='object')\n"
     ]
    }
   ],
   "source": [
    "# How many data points the dataset has? \n",
    "\n",
    "# How many features (a.k.a. columns, or predictors)?\n",
    "\n",
    "print(merged.shape)\n",
    "print(merged.columns)"
   ]
  },
  {
   "cell_type": "code",
   "execution_count": 18,
   "metadata": {
    "scrolled": true
   },
   "outputs": [
    {
     "data": {
      "text/plain": [
       "email                             object\n",
       "pass_fail                         object\n",
       "right_question                   float64\n",
       "wrong_question                   float64\n",
       "testID                            object\n",
       "testTakenTime                    float64\n",
       "testDuration                     float64\n",
       "testLevel                         object\n",
       "taskCompleted                    float64\n",
       "viewedVideoCases                 float64\n",
       "viewedDemVideos                  float64\n",
       "integrationCompleted             float64\n",
       "practiceTestTaken                float64\n",
       "quality_Satisfaction1            float64\n",
       "authenticProblems1               float64\n",
       "demonstration1                   float64\n",
       "application1                     float64\n",
       "activation1                      float64\n",
       "ALT2                             float64\n",
       "ALT3                             float64\n",
       "quality_Satisfaction2            float64\n",
       "demonstration2                   float64\n",
       "demonstration3                   float64\n",
       "ALT4                             float64\n",
       "authenticProblems2               float64\n",
       "integration1                     float64\n",
       "activation2                      float64\n",
       "authenticProblems3               float64\n",
       "integration2                     float64\n",
       "application3                     float64\n",
       "integration3                     float64\n",
       "activation3                      float64\n",
       "application4                     float64\n",
       "demonstration5                   float64\n",
       "comments                          object\n",
       "ALT1Reversed                     float64\n",
       "demonstration4Reversed           float64\n",
       "quality_Satisfaction3Reversed    float64\n",
       "quality_Satisfaction4Reversed    float64\n",
       "age                              float64\n",
       "highestEd                         object\n",
       "degreeOther                       object\n",
       "reason                            object\n",
       "reasonOther                       object\n",
       "level                             object\n",
       "testDate                          object\n",
       "dtype: object"
      ]
     },
     "execution_count": 18,
     "metadata": {},
     "output_type": "execute_result"
    }
   ],
   "source": [
    "#What is the type of each feature?\n",
    "merged.dtypes"
   ]
  },
  {
   "cell_type": "code",
   "execution_count": 19,
   "metadata": {
    "scrolled": true
   },
   "outputs": [
    {
     "name": "stdout",
     "output_type": "stream",
     "text": [
      "email                                 0\n",
      "pass_fail                             1\n",
      "right_question                        2\n",
      "wrong_question                        2\n",
      "testID                                2\n",
      "testTakenTime                         2\n",
      "testDuration                          2\n",
      "testLevel                             2\n",
      "taskCompleted                    103524\n",
      "viewedVideoCases                 103549\n",
      "viewedDemVideos                  103618\n",
      "integrationCompleted             103664\n",
      "practiceTestTaken                103662\n",
      "quality_Satisfaction1            103658\n",
      "authenticProblems1               103762\n",
      "demonstration1                   103895\n",
      "application1                     103894\n",
      "activation1                      103939\n",
      "ALT2                             103971\n",
      "ALT3                             103980\n",
      "quality_Satisfaction2            103992\n",
      "demonstration2                   103995\n",
      "demonstration3                   104002\n",
      "ALT4                             104001\n",
      "authenticProblems2               104047\n",
      "integration1                     104039\n",
      "activation2                      104066\n",
      "authenticProblems3               104068\n",
      "integration2                     104067\n",
      "application3                     104073\n",
      "integration3                     104078\n",
      "activation3                      104079\n",
      "application4                     104066\n",
      "demonstration5                   104072\n",
      "comments                           5333\n",
      "ALT1Reversed                     104310\n",
      "demonstration4Reversed           104569\n",
      "quality_Satisfaction3Reversed    104503\n",
      "quality_Satisfaction4Reversed    104464\n",
      "age                                3646\n",
      "highestEd                          7417\n",
      "degreeOther                      103874\n",
      "reason                             6313\n",
      "reasonOther                      107899\n",
      "level                              6425\n",
      "testDate                          23457\n",
      "dtype: int64\n"
     ]
    }
   ],
   "source": [
    "#the number of missing values per feature\n",
    "print(merged[:].isnull().sum())"
   ]
  },
  {
   "cell_type": "code",
   "execution_count": 20,
   "metadata": {
    "scrolled": true
   },
   "outputs": [
    {
     "name": "stdout",
     "output_type": "stream",
     "text": [
      "email                                            49\n",
      "pass_fail                        pu@unlv.nevada.edu\n",
      "right_question                                  NaN\n",
      "wrong_question                                  NaN\n",
      "testID                                         None\n",
      "testTakenTime                                   NaN\n",
      "testDuration                                    NaN\n",
      "testLevel                                      None\n",
      "taskCompleted                                   NaN\n",
      "viewedVideoCases                                NaN\n",
      "viewedDemVideos                                 NaN\n",
      "integrationCompleted                            NaN\n",
      "practiceTestTaken                               NaN\n",
      "quality_Satisfaction1                           NaN\n",
      "authenticProblems1                              NaN\n",
      "demonstration1                                  NaN\n",
      "application1                                    NaN\n",
      "activation1                                     NaN\n",
      "ALT2                                            NaN\n",
      "ALT3                                            NaN\n",
      "quality_Satisfaction2                           NaN\n",
      "demonstration2                                  NaN\n",
      "demonstration3                                  NaN\n",
      "ALT4                                            NaN\n",
      "authenticProblems2                              NaN\n",
      "integration1                                    NaN\n",
      "activation2                                     NaN\n",
      "authenticProblems3                              NaN\n",
      "integration2                                    NaN\n",
      "application3                                    NaN\n",
      "integration3                                    NaN\n",
      "activation3                                     NaN\n",
      "application4                                    NaN\n",
      "demonstration5                                  NaN\n",
      "comments                                       None\n",
      "ALT1Reversed                                    NaN\n",
      "demonstration4Reversed                          NaN\n",
      "quality_Satisfaction3Reversed                   NaN\n",
      "quality_Satisfaction4Reversed                   NaN\n",
      "age                                             NaN\n",
      "highestEd                                       NaN\n",
      "degreeOther                                     NaN\n",
      "reason                                          NaN\n",
      "reasonOther                                     NaN\n",
      "level                                           NaN\n",
      "testDate                                        NaN\n",
      "Name: 47973, dtype: object\n",
      "email                            @live.kutztown.edu\n",
      "pass_fail                                      None\n",
      "right_question                                  NaN\n",
      "wrong_question                                  NaN\n",
      "testID                                         None\n",
      "testTakenTime                                   NaN\n",
      "testDuration                                    NaN\n",
      "testLevel                                      None\n",
      "taskCompleted                                   NaN\n",
      "viewedVideoCases                                NaN\n",
      "viewedDemVideos                                 NaN\n",
      "integrationCompleted                            NaN\n",
      "practiceTestTaken                               NaN\n",
      "quality_Satisfaction1                           NaN\n",
      "authenticProblems1                              NaN\n",
      "demonstration1                                  NaN\n",
      "application1                                    NaN\n",
      "activation1                                     NaN\n",
      "ALT2                                            NaN\n",
      "ALT3                                            NaN\n",
      "quality_Satisfaction2                           NaN\n",
      "demonstration2                                  NaN\n",
      "demonstration3                                  NaN\n",
      "ALT4                                            NaN\n",
      "authenticProblems2                              NaN\n",
      "integration1                                    NaN\n",
      "activation2                                     NaN\n",
      "authenticProblems3                              NaN\n",
      "integration2                                    NaN\n",
      "application3                                    NaN\n",
      "integration3                                    NaN\n",
      "activation3                                     NaN\n",
      "application4                                    NaN\n",
      "demonstration5                                  NaN\n",
      "comments                                       None\n",
      "ALT1Reversed                                    NaN\n",
      "demonstration4Reversed                          NaN\n",
      "quality_Satisfaction3Reversed                   NaN\n",
      "quality_Satisfaction4Reversed                   NaN\n",
      "age                                             NaN\n",
      "highestEd                                       NaN\n",
      "degreeOther                                     NaN\n",
      "reason                                          NaN\n",
      "reasonOther                                     NaN\n",
      "level                                           NaN\n",
      "testDate                                        NaN\n",
      "Name: 76793, dtype: object\n"
     ]
    }
   ],
   "source": [
    "#the output above indicated that the feature testID has 2 missing values, which should not be a case. Since the assumption\n",
    "# each datapoint should have a test ID. The code below shows the datapoints with missing values. Somehow these \n",
    "#two datapoints were not saved accurately. \n",
    "\n",
    "for a in range(len(merged)):\n",
    "    if pd.isna(merged['testID'][a])==True:\n",
    "        print(merged.iloc[a,:])"
   ]
  },
  {
   "cell_type": "code",
   "execution_count": 21,
   "metadata": {},
   "outputs": [],
   "source": [
    "# Now I drop these unaccurate datapoints explained above.\n",
    "merged.drop(merged.index[47973], inplace=True)\n",
    "merged.drop(merged.index[76792], inplace=True)"
   ]
  },
  {
   "cell_type": "code",
   "execution_count": 22,
   "metadata": {
    "scrolled": true
   },
   "outputs": [
    {
     "name": "stdout",
     "output_type": "stream",
     "text": [
      "email                                 0\n",
      "pass_fail                             0\n",
      "right_question                        0\n",
      "wrong_question                        0\n",
      "testID                                0\n",
      "testTakenTime                         0\n",
      "testDuration                          0\n",
      "testLevel                             0\n",
      "taskCompleted                    103522\n",
      "viewedVideoCases                 103547\n",
      "viewedDemVideos                  103616\n",
      "integrationCompleted             103662\n",
      "practiceTestTaken                103660\n",
      "quality_Satisfaction1            103656\n",
      "authenticProblems1               103760\n",
      "demonstration1                   103893\n",
      "application1                     103892\n",
      "activation1                      103937\n",
      "ALT2                             103969\n",
      "ALT3                             103978\n",
      "quality_Satisfaction2            103990\n",
      "demonstration2                   103993\n",
      "demonstration3                   104000\n",
      "ALT4                             103999\n",
      "authenticProblems2               104045\n",
      "integration1                     104037\n",
      "activation2                      104064\n",
      "authenticProblems3               104066\n",
      "integration2                     104065\n",
      "application3                     104071\n",
      "integration3                     104076\n",
      "activation3                      104077\n",
      "application4                     104064\n",
      "demonstration5                   104070\n",
      "comments                           5331\n",
      "ALT1Reversed                     104308\n",
      "demonstration4Reversed           104567\n",
      "quality_Satisfaction3Reversed    104501\n",
      "quality_Satisfaction4Reversed    104462\n",
      "age                                3644\n",
      "highestEd                          7415\n",
      "degreeOther                      103872\n",
      "reason                             6311\n",
      "reasonOther                      107897\n",
      "level                              6423\n",
      "testDate                          23455\n",
      "dtype: int64\n"
     ]
    }
   ],
   "source": [
    "# Now, each datapoint has a test ID\n",
    "print(merged[:].isnull().sum())"
   ]
  },
  {
   "cell_type": "code",
   "execution_count": 23,
   "metadata": {
    "scrolled": true
   },
   "outputs": [
    {
     "name": "stdout",
     "output_type": "stream",
     "text": [
      "email                            0.000000\n",
      "pass_fail                        0.000000\n",
      "right_question                   0.000000\n",
      "wrong_question                   0.000000\n",
      "testID                           0.000000\n",
      "testTakenTime                    0.000000\n",
      "testDuration                     0.000000\n",
      "testLevel                        0.000000\n",
      "taskCompleted                    0.955652\n",
      "viewedVideoCases                 0.955883\n",
      "viewedDemVideos                  0.956520\n",
      "integrationCompleted             0.956945\n",
      "practiceTestTaken                0.956926\n",
      "quality_Satisfaction1            0.956889\n",
      "authenticProblems1               0.957849\n",
      "demonstration1                   0.959077\n",
      "application1                     0.959068\n",
      "activation1                      0.959483\n",
      "ALT2                             0.959779\n",
      "ALT3                             0.959862\n",
      "quality_Satisfaction2            0.959973\n",
      "demonstration2                   0.960000\n",
      "demonstration3                   0.960065\n",
      "ALT4                             0.960056\n",
      "authenticProblems2               0.960480\n",
      "integration1                     0.960407\n",
      "activation2                      0.960656\n",
      "authenticProblems3               0.960674\n",
      "integration2                     0.960665\n",
      "application3                     0.960720\n",
      "integration3                     0.960767\n",
      "activation3                      0.960776\n",
      "application4                     0.960656\n",
      "demonstration5                   0.960711\n",
      "comments                         0.049213\n",
      "ALT1Reversed                     0.962908\n",
      "demonstration4Reversed           0.965299\n",
      "quality_Satisfaction3Reversed    0.964690\n",
      "quality_Satisfaction4Reversed    0.964330\n",
      "age                              0.033639\n",
      "highestEd                        0.068451\n",
      "degreeOther                      0.958883\n",
      "reason                           0.058259\n",
      "reasonOther                      0.996040\n",
      "level                            0.059293\n",
      "testDate                         0.216522\n",
      "dtype: float64\n"
     ]
    }
   ],
   "source": [
    "# the percentage of missing values, per feature?\n",
    "print((merged[:].isnull().sum())/len(merged))"
   ]
  },
  {
   "cell_type": "code",
   "execution_count": 24,
   "metadata": {},
   "outputs": [
    {
     "name": "stdout",
     "output_type": "stream",
     "text": [
      "pass_fail : 2\n",
      "['FAIL' 'PASS']\n",
      "testLevel : 2\n",
      "['UG' 'GR']\n",
      "highestEd : 7\n",
      "['DD' 'MD' 'BD' 'HS' 'AD' nan 'OT']\n",
      "reason : 6\n",
      "['review' 'learn' 'assignment' 'curious' nan 'other']\n",
      "level : 4\n",
      "['confident' 'some' nan 'little']\n"
     ]
    }
   ],
   "source": [
    "#Which features are categorical and which features are not?\n",
    "\n",
    "# The columns ['pass_fail','testLevel', 'highestEd', 'reason', 'level'] are categorical.\n",
    "# I am going to convert these columns to categorical datatype.\n",
    "# First, check the number of distinct values per categorical feature?\n",
    "\n",
    "a=['pass_fail','testLevel', 'highestEd', 'reason', 'level'] \n",
    "for col in a:\n",
    "    print(col, ':', len(merged[col].unique()))\n",
    "    print(merged[col].unique())\n"
   ]
  },
  {
   "cell_type": "code",
   "execution_count": 27,
   "metadata": {
    "scrolled": true
   },
   "outputs": [
    {
     "name": "stdout",
     "output_type": "stream",
     "text": [
      "email                            category\n",
      "pass_fail                        category\n",
      "right_question                    float64\n",
      "wrong_question                    float64\n",
      "testID                             object\n",
      "testTakenTime                     float64\n",
      "testDuration                      float64\n",
      "testLevel                        category\n",
      "taskCompleted                     float64\n",
      "viewedVideoCases                  float64\n",
      "viewedDemVideos                   float64\n",
      "integrationCompleted              float64\n",
      "practiceTestTaken                 float64\n",
      "quality_Satisfaction1             float64\n",
      "authenticProblems1                float64\n",
      "demonstration1                    float64\n",
      "application1                      float64\n",
      "activation1                       float64\n",
      "ALT2                              float64\n",
      "ALT3                              float64\n",
      "quality_Satisfaction2             float64\n",
      "demonstration2                    float64\n",
      "demonstration3                    float64\n",
      "ALT4                              float64\n",
      "authenticProblems2                float64\n",
      "integration1                      float64\n",
      "activation2                       float64\n",
      "authenticProblems3                float64\n",
      "integration2                      float64\n",
      "application3                      float64\n",
      "integration3                      float64\n",
      "activation3                       float64\n",
      "application4                      float64\n",
      "demonstration5                    float64\n",
      "comments                           object\n",
      "ALT1Reversed                      float64\n",
      "demonstration4Reversed            float64\n",
      "quality_Satisfaction3Reversed     float64\n",
      "quality_Satisfaction4Reversed     float64\n",
      "age                               float64\n",
      "highestEd                        category\n",
      "degreeOther                        object\n",
      "reason                           category\n",
      "reasonOther                        object\n",
      "level                            category\n",
      "testDate                           object\n",
      "dtype: object\n"
     ]
    }
   ],
   "source": [
    "merged[['email','pass_fail', 'testLevel', 'highestEd', 'reason', 'level' ]] = merged[['email','pass_fail', 'testLevel', 'highestEd', 'reason', 'level' ]].astype('category')\n",
    "print(merged.dtypes)\n"
   ]
  },
  {
   "cell_type": "code",
   "execution_count": 28,
   "metadata": {},
   "outputs": [
    {
     "data": {
      "text/html": [
       "<div>\n",
       "<style scoped>\n",
       "    .dataframe tbody tr th:only-of-type {\n",
       "        vertical-align: middle;\n",
       "    }\n",
       "\n",
       "    .dataframe tbody tr th {\n",
       "        vertical-align: top;\n",
       "    }\n",
       "\n",
       "    .dataframe thead th {\n",
       "        text-align: right;\n",
       "    }\n",
       "</style>\n",
       "<table border=\"1\" class=\"dataframe\">\n",
       "  <thead>\n",
       "    <tr style=\"text-align: right;\">\n",
       "      <th></th>\n",
       "      <th>pass_fail</th>\n",
       "      <th>testLevel</th>\n",
       "      <th>highestEd</th>\n",
       "      <th>reason</th>\n",
       "      <th>level</th>\n",
       "    </tr>\n",
       "  </thead>\n",
       "  <tbody>\n",
       "    <tr>\n",
       "      <th>0</th>\n",
       "      <td>0</td>\n",
       "      <td>0</td>\n",
       "      <td>6.0</td>\n",
       "      <td>5.0</td>\n",
       "      <td>3.0</td>\n",
       "    </tr>\n",
       "    <tr>\n",
       "      <th>1</th>\n",
       "      <td>1</td>\n",
       "      <td>0</td>\n",
       "      <td>6.0</td>\n",
       "      <td>5.0</td>\n",
       "      <td>3.0</td>\n",
       "    </tr>\n",
       "    <tr>\n",
       "      <th>2</th>\n",
       "      <td>0</td>\n",
       "      <td>1</td>\n",
       "      <td>5.0</td>\n",
       "      <td>4.0</td>\n",
       "      <td>2.0</td>\n",
       "    </tr>\n",
       "    <tr>\n",
       "      <th>3</th>\n",
       "      <td>0</td>\n",
       "      <td>1</td>\n",
       "      <td>4.0</td>\n",
       "      <td>3.0</td>\n",
       "      <td>2.0</td>\n",
       "    </tr>\n",
       "    <tr>\n",
       "      <th>4</th>\n",
       "      <td>0</td>\n",
       "      <td>1</td>\n",
       "      <td>4.0</td>\n",
       "      <td>3.0</td>\n",
       "      <td>2.0</td>\n",
       "    </tr>\n",
       "  </tbody>\n",
       "</table>\n",
       "</div>"
      ],
      "text/plain": [
       "   pass_fail  testLevel  highestEd  reason  level\n",
       "0          0          0        6.0     5.0    3.0\n",
       "1          1          0        6.0     5.0    3.0\n",
       "2          0          1        5.0     4.0    2.0\n",
       "3          0          1        4.0     3.0    2.0\n",
       "4          0          1        4.0     3.0    2.0"
      ]
     },
     "execution_count": 28,
     "metadata": {},
     "output_type": "execute_result"
    }
   ],
   "source": [
    "# Recoding the categorical values\n",
    "clean_nums = {\"pass_fail\": {\"FAIL\": 0, \"PASS\": 1},\n",
    "                  \"testLevel\": {\"UG\": 0, \"GR\": 1},\n",
    "              'highestEd': {'DD':6, 'MD':5, 'BD':4, 'HS':3, 'AD':2, 'OT':1},\n",
    "                  'reason': {'review':5, 'learn':4, 'assignment':3, 'curious':2, 'other':1},\n",
    "                  'level': {'confident':3, 'some':2, 'little':1}}\n",
    "merged.replace(clean_nums, inplace=True)\n",
    "merged[['pass_fail', 'testLevel', 'highestEd', 'reason', 'level']].head()\n",
    "\n"
   ]
  }
 ],
 "metadata": {
  "kernelspec": {
   "display_name": "Python 3",
   "language": "python",
   "name": "python3"
  },
  "language_info": {
   "codemirror_mode": {
    "name": "ipython",
    "version": 3
   },
   "file_extension": ".py",
   "mimetype": "text/x-python",
   "name": "python",
   "nbconvert_exporter": "python",
   "pygments_lexer": "ipython3",
   "version": "3.7.0"
  }
 },
 "nbformat": 4,
 "nbformat_minor": 2
}
