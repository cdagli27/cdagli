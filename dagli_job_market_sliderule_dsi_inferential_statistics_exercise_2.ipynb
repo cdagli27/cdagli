{
 "cells": [
  {
   "cell_type": "markdown",
   "metadata": {},
   "source": [
    "# Examining Racial Discrimination in the US Job Market\n",
    "\n",
    "### Background\n",
    "Racial discrimination continues to be pervasive in cultures throughout the world. Researchers examined the level of racial discrimination in the United States labor market by randomly assigning identical résumés to black-sounding or white-sounding names and observing the impact on requests for interviews from employers.\n",
    "\n",
    "### Data\n",
    "In the dataset provided, each row represents a resume. The 'race' column has two values, 'b' and 'w', indicating black-sounding and white-sounding. The column 'call' has two values, 1 and 0, indicating whether the resume received a call from employers or not.\n",
    "\n",
    "Note that the 'b' and 'w' values in race are assigned randomly to the resumes when presented to the employer."
   ]
  },
  {
   "cell_type": "markdown",
   "metadata": {},
   "source": [
    "### Exercises\n",
    "You will perform a statistical analysis to establish whether race has a significant impact on the rate of callbacks for resumes.\n",
    "\n",
    "Answer the following questions **in this notebook below and submit to your Github account**. \n",
    "\n",
    "   1. What test is appropriate for this problem? Does CLT apply?\n",
    "   2. What are the null and alternate hypotheses?\n",
    "   3. Compute margin of error, confidence interval, and p-value. Try using both the bootstrapping and the frequentist statistical approaches.\n",
    "   4. Write a story describing the statistical significance in the context or the original problem.\n",
    "   5. Does your analysis mean that race/name is the most important factor in callback success? Why or why not? If not, how would you amend your analysis?\n",
    "\n",
    "You can include written notes in notebook cells using Markdown: \n",
    "   - In the control panel at the top, choose Cell > Cell Type > Markdown\n",
    "   - Markdown syntax: http://nestacms.com/docs/creating-content/markdown-cheat-sheet\n",
    "\n",
    "#### Resources\n",
    "+ Experiment information and data source: http://www.povertyactionlab.org/evaluation/discrimination-job-market-united-states\n",
    "+ Scipy statistical methods: http://docs.scipy.org/doc/scipy/reference/stats.html \n",
    "+ Markdown syntax: http://nestacms.com/docs/creating-content/markdown-cheat-sheet\n",
    "+ Formulas for the Bernoulli distribution: https://en.wikipedia.org/wiki/Bernoulli_distribution"
   ]
  },
  {
   "cell_type": "code",
   "execution_count": 1,
   "metadata": {},
   "outputs": [],
   "source": [
    "import pandas as pd\n",
    "import numpy as np\n",
    "from scipy import stats"
   ]
  },
  {
   "cell_type": "code",
   "execution_count": 2,
   "metadata": {},
   "outputs": [],
   "source": [
    "data = pd.io.stata.read_stata('data/us_job_market_discrimination.dta')"
   ]
  },
  {
   "cell_type": "code",
   "execution_count": 3,
   "metadata": {},
   "outputs": [
    {
     "name": "stdout",
     "output_type": "stream",
     "text": [
      "235.0\n",
      "157.0\n"
     ]
    }
   ],
   "source": [
    "# number of callbacks for white and black-sounding names\n",
    "print(sum(data[data.race=='w'].call))\n",
    "print(sum(data[data.race=='b'].call))"
   ]
  },
  {
   "cell_type": "code",
   "execution_count": 4,
   "metadata": {},
   "outputs": [
    {
     "data": {
      "text/html": [
       "<div>\n",
       "<style scoped>\n",
       "    .dataframe tbody tr th:only-of-type {\n",
       "        vertical-align: middle;\n",
       "    }\n",
       "\n",
       "    .dataframe tbody tr th {\n",
       "        vertical-align: top;\n",
       "    }\n",
       "\n",
       "    .dataframe thead th {\n",
       "        text-align: right;\n",
       "    }\n",
       "</style>\n",
       "<table border=\"1\" class=\"dataframe\">\n",
       "  <thead>\n",
       "    <tr style=\"text-align: right;\">\n",
       "      <th></th>\n",
       "      <th>id</th>\n",
       "      <th>ad</th>\n",
       "      <th>education</th>\n",
       "      <th>ofjobs</th>\n",
       "      <th>yearsexp</th>\n",
       "      <th>honors</th>\n",
       "      <th>volunteer</th>\n",
       "      <th>military</th>\n",
       "      <th>empholes</th>\n",
       "      <th>occupspecific</th>\n",
       "      <th>...</th>\n",
       "      <th>compreq</th>\n",
       "      <th>orgreq</th>\n",
       "      <th>manuf</th>\n",
       "      <th>transcom</th>\n",
       "      <th>bankreal</th>\n",
       "      <th>trade</th>\n",
       "      <th>busservice</th>\n",
       "      <th>othservice</th>\n",
       "      <th>missind</th>\n",
       "      <th>ownership</th>\n",
       "    </tr>\n",
       "  </thead>\n",
       "  <tbody>\n",
       "    <tr>\n",
       "      <th>0</th>\n",
       "      <td>b</td>\n",
       "      <td>1</td>\n",
       "      <td>4</td>\n",
       "      <td>2</td>\n",
       "      <td>6</td>\n",
       "      <td>0</td>\n",
       "      <td>0</td>\n",
       "      <td>0</td>\n",
       "      <td>1</td>\n",
       "      <td>17</td>\n",
       "      <td>...</td>\n",
       "      <td>1.0</td>\n",
       "      <td>0.0</td>\n",
       "      <td>1.0</td>\n",
       "      <td>0.0</td>\n",
       "      <td>0.0</td>\n",
       "      <td>0.0</td>\n",
       "      <td>0.0</td>\n",
       "      <td>0.0</td>\n",
       "      <td>0.0</td>\n",
       "      <td></td>\n",
       "    </tr>\n",
       "    <tr>\n",
       "      <th>1</th>\n",
       "      <td>b</td>\n",
       "      <td>1</td>\n",
       "      <td>3</td>\n",
       "      <td>3</td>\n",
       "      <td>6</td>\n",
       "      <td>0</td>\n",
       "      <td>1</td>\n",
       "      <td>1</td>\n",
       "      <td>0</td>\n",
       "      <td>316</td>\n",
       "      <td>...</td>\n",
       "      <td>1.0</td>\n",
       "      <td>0.0</td>\n",
       "      <td>1.0</td>\n",
       "      <td>0.0</td>\n",
       "      <td>0.0</td>\n",
       "      <td>0.0</td>\n",
       "      <td>0.0</td>\n",
       "      <td>0.0</td>\n",
       "      <td>0.0</td>\n",
       "      <td></td>\n",
       "    </tr>\n",
       "    <tr>\n",
       "      <th>2</th>\n",
       "      <td>b</td>\n",
       "      <td>1</td>\n",
       "      <td>4</td>\n",
       "      <td>1</td>\n",
       "      <td>6</td>\n",
       "      <td>0</td>\n",
       "      <td>0</td>\n",
       "      <td>0</td>\n",
       "      <td>0</td>\n",
       "      <td>19</td>\n",
       "      <td>...</td>\n",
       "      <td>1.0</td>\n",
       "      <td>0.0</td>\n",
       "      <td>1.0</td>\n",
       "      <td>0.0</td>\n",
       "      <td>0.0</td>\n",
       "      <td>0.0</td>\n",
       "      <td>0.0</td>\n",
       "      <td>0.0</td>\n",
       "      <td>0.0</td>\n",
       "      <td></td>\n",
       "    </tr>\n",
       "    <tr>\n",
       "      <th>3</th>\n",
       "      <td>b</td>\n",
       "      <td>1</td>\n",
       "      <td>3</td>\n",
       "      <td>4</td>\n",
       "      <td>6</td>\n",
       "      <td>0</td>\n",
       "      <td>1</td>\n",
       "      <td>0</td>\n",
       "      <td>1</td>\n",
       "      <td>313</td>\n",
       "      <td>...</td>\n",
       "      <td>1.0</td>\n",
       "      <td>0.0</td>\n",
       "      <td>1.0</td>\n",
       "      <td>0.0</td>\n",
       "      <td>0.0</td>\n",
       "      <td>0.0</td>\n",
       "      <td>0.0</td>\n",
       "      <td>0.0</td>\n",
       "      <td>0.0</td>\n",
       "      <td></td>\n",
       "    </tr>\n",
       "    <tr>\n",
       "      <th>4</th>\n",
       "      <td>b</td>\n",
       "      <td>1</td>\n",
       "      <td>3</td>\n",
       "      <td>3</td>\n",
       "      <td>22</td>\n",
       "      <td>0</td>\n",
       "      <td>0</td>\n",
       "      <td>0</td>\n",
       "      <td>0</td>\n",
       "      <td>313</td>\n",
       "      <td>...</td>\n",
       "      <td>1.0</td>\n",
       "      <td>1.0</td>\n",
       "      <td>0.0</td>\n",
       "      <td>0.0</td>\n",
       "      <td>0.0</td>\n",
       "      <td>0.0</td>\n",
       "      <td>0.0</td>\n",
       "      <td>1.0</td>\n",
       "      <td>0.0</td>\n",
       "      <td>Nonprofit</td>\n",
       "    </tr>\n",
       "  </tbody>\n",
       "</table>\n",
       "<p>5 rows × 65 columns</p>\n",
       "</div>"
      ],
      "text/plain": [
       "  id ad  education  ofjobs  yearsexp  honors  volunteer  military  empholes  \\\n",
       "0  b  1          4       2         6       0          0         0         1   \n",
       "1  b  1          3       3         6       0          1         1         0   \n",
       "2  b  1          4       1         6       0          0         0         0   \n",
       "3  b  1          3       4         6       0          1         0         1   \n",
       "4  b  1          3       3        22       0          0         0         0   \n",
       "\n",
       "   occupspecific    ...      compreq  orgreq  manuf  transcom  bankreal trade  \\\n",
       "0             17    ...          1.0     0.0    1.0       0.0       0.0   0.0   \n",
       "1            316    ...          1.0     0.0    1.0       0.0       0.0   0.0   \n",
       "2             19    ...          1.0     0.0    1.0       0.0       0.0   0.0   \n",
       "3            313    ...          1.0     0.0    1.0       0.0       0.0   0.0   \n",
       "4            313    ...          1.0     1.0    0.0       0.0       0.0   0.0   \n",
       "\n",
       "  busservice othservice  missind  ownership  \n",
       "0        0.0        0.0      0.0             \n",
       "1        0.0        0.0      0.0             \n",
       "2        0.0        0.0      0.0             \n",
       "3        0.0        0.0      0.0             \n",
       "4        0.0        1.0      0.0  Nonprofit  \n",
       "\n",
       "[5 rows x 65 columns]"
      ]
     },
     "execution_count": 4,
     "metadata": {},
     "output_type": "execute_result"
    }
   ],
   "source": [
    "data.head()"
   ]
  },
  {
   "cell_type": "code",
   "execution_count": 5,
   "metadata": {},
   "outputs": [
    {
     "data": {
      "text/plain": [
       "array(['w', 'b'], dtype=object)"
      ]
     },
     "execution_count": 5,
     "metadata": {},
     "output_type": "execute_result"
    }
   ],
   "source": [
    "data.race.unique()"
   ]
  },
  {
   "cell_type": "code",
   "execution_count": 7,
   "metadata": {
    "scrolled": true
   },
   "outputs": [
    {
     "data": {
      "text/plain": [
       "(4870, 65)"
      ]
     },
     "execution_count": 7,
     "metadata": {},
     "output_type": "execute_result"
    }
   ],
   "source": [
    "data.shape"
   ]
  },
  {
   "cell_type": "code",
   "execution_count": null,
   "metadata": {},
   "outputs": [],
   "source": []
  },
  {
   "cell_type": "code",
   "execution_count": null,
   "metadata": {},
   "outputs": [],
   "source": []
  },
  {
   "cell_type": "markdown",
   "metadata": {
    "collapsed": true
   },
   "source": [
    "<div class=\"span5 alert alert-success\">\n",
    "<p>Your answers to Q1 and Q2 here</p>\n",
    "</div>"
   ]
  },
  {
   "cell_type": "markdown",
   "metadata": {},
   "source": [
    "# Q1. What test is appropriate for this problem? Does CLT apply?\n",
    "\n",
    "As the variables (race and call) are categorical hypothesis test will be used for comparing two samples.\n",
    "A Two-sample T-test will be perfromed whether the means of two independent data samples differ from one another. \n",
    "\n",
    "In order to check whether or not CLT can be applied we shoul make sure dataset meet the following conditions.\n",
    "    Sample Size: In general, a sample size of 30 is considered sufficient. In this case the sample size is 4870.\n",
    "    Randomization: The data is sampled randomly.\n",
    "    Independence: The sample observations must be independent of each other.\n",
    "Since the assumptions and conditions are met CLT can be applied."
   ]
  },
  {
   "cell_type": "markdown",
   "metadata": {},
   "source": [
    "# Q2. What are the null and alternate hypotheses?\n",
    "\n",
    "In a two-sample test, the null hypothesis is that the means of both groups are the same. \n",
    "\n",
    "H0: There is no difference between callbacks for both gorups (White and Black sounding names) \n",
    "H1: There is a diffrence between callbacks for both groups."
   ]
  },
  {
   "cell_type": "code",
   "execution_count": 8,
   "metadata": {
    "scrolled": true
   },
   "outputs": [
    {
     "name": "stdout",
     "output_type": "stream",
     "text": [
      "2435\n",
      "2435\n"
     ]
    }
   ],
   "source": [
    "w = data[data.race=='w']\n",
    "b = data[data.race=='b']\n",
    "print(w.shape[0])\n",
    "print(b.shape[0])"
   ]
  },
  {
   "cell_type": "markdown",
   "metadata": {
    "collapsed": true
   },
   "source": [
    "# Question 3 \n",
    "Compute margin of error, confidence interval, and p-value. Try using both the bootstrapping and the frequentist statistical approaches."
   ]
  },
  {
   "cell_type": "markdown",
   "metadata": {},
   "source": [
    "# Bootstrapping\n",
    "The idea of bootstrapping is to take many samples with replacement from the observed data set to generate a bootstrap population. Then we can use the bootstrapped population to create a sampling distribution."
   ]
  },
  {
   "cell_type": "code",
   "execution_count": 9,
   "metadata": {
    "scrolled": true
   },
   "outputs": [
    {
     "name": "stdout",
     "output_type": "stream",
     "text": [
      "Bootstrapped White-Sonding Group Mean Callbacks = 0.09650836139917374, 95% CI = [0.08501027 0.10841889]\n"
     ]
    }
   ],
   "source": [
    "# For White-Sounding Group, Draw some random sample with replacement and append mean to mean_temp.\n",
    "w_call, sims = [], 100000\n",
    "for i in range(sims):\n",
    "    call_sample = np.random.choice(w['call'], replace=True, size=len(w['call']))\n",
    "    sample_mean = call_sample.mean()\n",
    "    w_call.append(sample_mean)\n",
    "    \n",
    "# Calculate bootstrapped mean and 95% confidence interval.\n",
    "boot_mean = np.mean(w_call)\n",
    "boot_95_ci = np.percentile(w_call, [2.5, 97.5])\n",
    "print(\"Bootstrapped White-Sonding Group Mean Callbacks = {}, 95% CI = {}\".format(boot_mean, boot_95_ci))\n"
   ]
  },
  {
   "cell_type": "markdown",
   "metadata": {},
   "source": [
    "In a group of White-sounding names, with 95% confidence,\n",
    "    White-sounding names get called back 8.5 - 10.8% of the time."
   ]
  },
  {
   "cell_type": "code",
   "execution_count": 10,
   "metadata": {},
   "outputs": [
    {
     "name": "stdout",
     "output_type": "stream",
     "text": [
      "Bootstrapped Black-Sonding Group Mean Callbacks = 0.06449078768491745, 95% CI = [0.0550308  0.07433265]\n"
     ]
    }
   ],
   "source": [
    "# For Black-Sounding Group, Draw some random sample with replacement and append mean to mean_temp.\n",
    "b_call, sims = [], 100000\n",
    "for i in range(sims):\n",
    "    call_sample = np.random.choice(b['call'], replace=True, size=len(b['call']))\n",
    "    sample_mean = call_sample.mean()\n",
    "    b_call.append(sample_mean)\n",
    "    \n",
    "# Calculate bootstrapped mean and 95% confidence interval.\n",
    "boot_mean = np.mean(b_call)\n",
    "boot_95_ci = np.percentile(b_call, [2.5, 97.5])\n",
    "\n",
    "print(\"Bootstrapped Black-Sonding Group Mean Callbacks = {}, 95% CI = {}\".format(boot_mean, boot_95_ci))\n"
   ]
  },
  {
   "cell_type": "markdown",
   "metadata": {},
   "source": [
    "In a group of Black-sounding names, with 95% confidence,\n",
    "    Black-sounding names get called back 5.5 - 7.4% of the time."
   ]
  },
  {
   "cell_type": "code",
   "execution_count": 11,
   "metadata": {},
   "outputs": [
    {
     "name": "stdout",
     "output_type": "stream",
     "text": [
      "observed difference in means: 0.03201757371425629\n",
      "p-value = 0.01243\n"
     ]
    }
   ],
   "source": [
    "# Calculating p value\n",
    "dif_bootstrap_means = [(np.mean(w_call[i])-np.mean(b_call[i])) for i in range(len(w.call))]\n",
    "obs_difs = np.mean(w_call)- np.mean(b_call)\n",
    "print('observed difference in means: {}'.format(obs_difs))\n",
    "\n",
    "p = np.sum(dif_bootstrap_means >= obs_difs) / len(w_call)\n",
    "print('p-value =', p)"
   ]
  },
  {
   "cell_type": "markdown",
   "metadata": {},
   "source": [
    "Since p-value is less than 0.05 there is a significant difference between callbacks for white and black sounding names. Thus, we reject the null hypothesis and take the alternative hypothesis."
   ]
  },
  {
   "cell_type": "markdown",
   "metadata": {},
   "source": [
    "# the frequentist statistical approaches."
   ]
  },
  {
   "cell_type": "code",
   "execution_count": 12,
   "metadata": {},
   "outputs": [
    {
     "name": "stdout",
     "output_type": "stream",
     "text": [
      "Ratio of white sounding names who are called 0.048254620123203286\n",
      "Ratio of black sounding names who are called 0.03223819301848049\n",
      "Ratio of candidates who are called 0.08049281314168377\n"
     ]
    }
   ],
   "source": [
    "white = sum(data[data.race=='w'].call) / len(data) \n",
    "print('Ratio of white sounding names who are called', white)\n",
    "black = sum(data[data.race=='b'].call) / len(data) \n",
    "print('Ratio of black sounding names who are called', black)\n",
    "w_and_b = sum(data.call) / len(data)              \n",
    "print('Ratio of candidates who are called', w_and_b)"
   ]
  },
  {
   "cell_type": "code",
   "execution_count": 13,
   "metadata": {},
   "outputs": [
    {
     "name": "stdout",
     "output_type": "stream",
     "text": [
      "0.5994897959183674\n",
      "0.4005102040816327\n",
      "0.1989795918367347\n"
     ]
    }
   ],
   "source": [
    "## White-sounding names callbacks\n",
    "print(white/w_and_b)\n",
    "\n",
    "## Black-sounding names callbacks\n",
    "print(black/w_and_b)\n",
    "\n",
    "## Difference between white-sounding names and\n",
    "## black-sounding names callback rate.\n",
    "print(white/w_and_b - black/w_and_b)"
   ]
  },
  {
   "cell_type": "code",
   "execution_count": 14,
   "metadata": {},
   "outputs": [
    {
     "name": "stdout",
     "output_type": "stream",
     "text": [
      "The results of the independent t-test are: \n",
      "\tt-value = 4.115\n",
      "\tp-value = 0.000\n"
     ]
    }
   ],
   "source": [
    "# Run independent t-test\n",
    "ind_t_test=stats.ttest_ind(w['call'],b['call'])\n",
    "print('The results of the independent t-test are: \\n\\tt-value = {:4.3f}\\n\\tp-value = {:4.3f}'.format(ind_t_test[0],ind_t_test[1]))\n"
   ]
  },
  {
   "cell_type": "markdown",
   "metadata": {},
   "source": [
    "According to the t-test, there is a significant difference between callbacks for white and black sounding names. Thus, we reject the null hypothesis and take the alternative hypothesis. (99% confidence)"
   ]
  },
  {
   "cell_type": "code",
   "execution_count": 15,
   "metadata": {},
   "outputs": [
    {
     "name": "stdout",
     "output_type": "stream",
     "text": [
      "The mean for the callback of white-soundng names  0.09650924056768417\n",
      "The mean for the callback of black-soundng names  0.0644763857126236\n",
      "The variance for the callback of black-soundng names  0.060343656688928604\n",
      "The variance for the callback of white-soundng names  0.08722896873950958\n",
      "The avarage variance for the callbacks  0.0737863127142191\n"
     ]
    }
   ],
   "source": [
    "np.mean(w.call)\n",
    "print(\"The mean for the callback of white-soundng names \", np.mean(w.call))\n",
    "np.mean(b.call)\n",
    "print(\"The mean for the callback of black-soundng names \", np.mean(b.call))\n",
    "b_var = b.call.var()\n",
    "print(\"The variance for the callback of black-soundng names \", b_var)\n",
    "w_var = w.call.var()\n",
    "print(\"The variance for the callback of white-soundng names \", w_var)\n",
    "avg_var = (b_var + w_var)/2\n",
    "print(\"The avarage variance for the callbacks \", avg_var)\n"
   ]
  },
  {
   "cell_type": "code",
   "execution_count": 16,
   "metadata": {
    "scrolled": true
   },
   "outputs": [
    {
     "name": "stdout",
     "output_type": "stream",
     "text": [
      "Confidence interval for White-soundngnames: 0.08478059723925077 - 0.10823788389611758\n",
      "Confidence interval for Black-soundngnames: 0.054721252327818146 - 0.07423151909742905\n"
     ]
    }
   ],
   "source": [
    "#Calculating confidence interval for white-sounding names\n",
    "\n",
    "w_SE= np.std(w.call)/np.sqrt(len(w.call)) # Standard Error\n",
    "ci=1.96\n",
    "w_ci_low=np.mean(w.call) - ci * w_SE\n",
    "w_ci_high=np.mean(w.call) + ci * w_SE\n",
    "print('Confidence interval for White-soundngnames:', w_ci_low, '-', w_ci_high)\n",
    "\n",
    "b_SE= np.std(b.call)/np.sqrt(len(b.call)) # Standard Error\n",
    "b_ci_low=np.mean(b.call) - ci * b_SE\n",
    "b_ci_high=np.mean(b.call) + ci * b_SE\n",
    "print('Confidence interval for Black-soundngnames:', b_ci_low, '-', b_ci_high)"
   ]
  },
  {
   "cell_type": "markdown",
   "metadata": {},
   "source": [
    "# Question 4 & 5"
   ]
  },
  {
   "cell_type": "markdown",
   "metadata": {},
   "source": [
    "Since p-value of the 2-sample t test < 0.05 and the conﬁdence interval does not include 0, we con-clude that we reject the null hypothesis and there a difference between the means of number of callback of 2 samples. However, there are also many factors we have not considered in this case and there-fore the sounding of names might not be the only factor contributing to the different number of callback of 2 different races."
   ]
  },
  {
   "cell_type": "code",
   "execution_count": 17,
   "metadata": {},
   "outputs": [
    {
     "name": "stdout",
     "output_type": "stream",
     "text": [
      "The results of the independent t-test are: \n",
      "\tt-value = 4.115\n",
      "\tp-value = 0.000\n",
      "Margin of Error: 0.05604237444040884\n",
      "White-sounding Group Mean: 0.09650924056768417\n",
      "Black-sounding Group Mean: 0.0644763857126236\n",
      "\n",
      "The difference between groups is 0.032 [-0.024 to 0.088] (mean [95% CI])\n"
     ]
    }
   ],
   "source": [
    "from scipy import stats\n",
    "from math import sqrt\n",
    "from scipy.stats import t\n",
    "\n",
    "# Run independent t-test\n",
    "ind_t_test=stats.ttest_ind(w['call'],b['call'])\n",
    "\n",
    "# Calculate the mean difference and 95% confidence interval\n",
    "N1 = sum(w['call'])\n",
    "N2 = sum(b['call'])\n",
    "df = (N1 + N2 - 2) # Degree of Freedom\n",
    "std1 = w['call'].std()\n",
    "std2 = b['call'].std()\n",
    "std_N1N2 = sqrt( ((N1 - 1)*(std1)**2 + (N2 - 1)*(std2)**2) / df) # Average standard deviations between groups\n",
    "\n",
    "diff_mean = w['call'].mean() - b['call'].mean()\n",
    "MoE = t.ppf(0.975, df) * std_N1N2 * sqrt(1/N1 + 1/N2)\n",
    "\n",
    "print('The results of the independent t-test are: \\n\\tt-value = {:4.3f}\\n\\tp-value = {:4.3f}'.format(ind_t_test[0],ind_t_test[1]))\n",
    "\n",
    "print('Margin of Error:', MoE)\n",
    "print('White-sounding Group Mean:', w['call'].mean())\n",
    "print('Black-sounding Group Mean:', b['call'].mean())\n",
    "print ('\\nThe difference between groups is {:3.3f} [{:3.3f} to {:3.3f}] (mean [95% CI])'.format(diff_mean, diff_mean - MoE, diff_mean + MoE))\n"
   ]
  },
  {
   "cell_type": "code",
   "execution_count": null,
   "metadata": {},
   "outputs": [],
   "source": []
  }
 ],
 "metadata": {
  "kernelspec": {
   "display_name": "Python 3",
   "language": "python",
   "name": "python3"
  },
  "language_info": {
   "codemirror_mode": {
    "name": "ipython",
    "version": 3
   },
   "file_extension": ".py",
   "mimetype": "text/x-python",
   "name": "python",
   "nbconvert_exporter": "python",
   "pygments_lexer": "ipython3",
   "version": "3.7.0"
  }
 },
 "nbformat": 4,
 "nbformat_minor": 1
}
